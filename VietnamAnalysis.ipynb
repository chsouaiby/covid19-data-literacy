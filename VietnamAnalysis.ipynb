{
 "cells": [
  {
   "cell_type": "markdown",
   "id": "e26b77bc",
   "metadata": {},
   "source": [
    "# **Covid 19 crisis as a model for Data literacy**\n",
    "### Covid 19 Timeline - Statistical Work\n",
    "##### *Christina Souaiby* - *Sorbonne Université*  - *L1 Sciences Formelles*"
   ]
  },
  {
   "cell_type": "code",
   "execution_count": 1,
   "id": "4e9c151e",
   "metadata": {},
   "outputs": [],
   "source": [
    "import pandas as pd\n",
    "import numpy as np\n",
    "import matplotlib.pyplot as plt"
   ]
  },
  {
   "cell_type": "code",
   "execution_count": 2,
   "id": "8ca9cf5c",
   "metadata": {},
   "outputs": [],
   "source": [
    "cases_deaths=pd.read_csv('WHO-COVID-19-global-data.csv')"
   ]
  },
  {
   "cell_type": "markdown",
   "id": "a285c453",
   "metadata": {},
   "source": [
    "## $\\color{red}{\\text{VI}}$$\\color{yellow}{\\text{ET}}$$\\color{red}{\\text{NAM}}$"
   ]
  },
  {
   "cell_type": "code",
   "execution_count": 3,
   "id": "815b536a",
   "metadata": {},
   "outputs": [
    {
     "data": {
      "text/html": [
       "<div>\n",
       "<style scoped>\n",
       "    .dataframe tbody tr th:only-of-type {\n",
       "        vertical-align: middle;\n",
       "    }\n",
       "\n",
       "    .dataframe tbody tr th {\n",
       "        vertical-align: top;\n",
       "    }\n",
       "\n",
       "    .dataframe thead th {\n",
       "        text-align: right;\n",
       "    }\n",
       "</style>\n",
       "<table border=\"1\" class=\"dataframe\">\n",
       "  <thead>\n",
       "    <tr style=\"text-align: right;\">\n",
       "      <th></th>\n",
       "      <th>Date_reported</th>\n",
       "      <th>New_cases</th>\n",
       "      <th>New_deaths</th>\n",
       "    </tr>\n",
       "  </thead>\n",
       "  <tbody>\n",
       "    <tr>\n",
       "      <th>197896</th>\n",
       "      <td>2020-01-03</td>\n",
       "      <td>0</td>\n",
       "      <td>0</td>\n",
       "    </tr>\n",
       "    <tr>\n",
       "      <th>197897</th>\n",
       "      <td>2020-01-04</td>\n",
       "      <td>0</td>\n",
       "      <td>0</td>\n",
       "    </tr>\n",
       "    <tr>\n",
       "      <th>197898</th>\n",
       "      <td>2020-01-05</td>\n",
       "      <td>0</td>\n",
       "      <td>0</td>\n",
       "    </tr>\n",
       "    <tr>\n",
       "      <th>197899</th>\n",
       "      <td>2020-01-06</td>\n",
       "      <td>0</td>\n",
       "      <td>0</td>\n",
       "    </tr>\n",
       "    <tr>\n",
       "      <th>197900</th>\n",
       "      <td>2020-01-07</td>\n",
       "      <td>0</td>\n",
       "      <td>0</td>\n",
       "    </tr>\n",
       "    <tr>\n",
       "      <th>...</th>\n",
       "      <td>...</td>\n",
       "      <td>...</td>\n",
       "      <td>...</td>\n",
       "    </tr>\n",
       "    <tr>\n",
       "      <th>198744</th>\n",
       "      <td>2022-04-30</td>\n",
       "      <td>6068</td>\n",
       "      <td>1</td>\n",
       "    </tr>\n",
       "    <tr>\n",
       "      <th>198745</th>\n",
       "      <td>2022-05-01</td>\n",
       "      <td>5109</td>\n",
       "      <td>3</td>\n",
       "    </tr>\n",
       "    <tr>\n",
       "      <th>198746</th>\n",
       "      <td>2022-05-02</td>\n",
       "      <td>3717</td>\n",
       "      <td>1</td>\n",
       "    </tr>\n",
       "    <tr>\n",
       "      <th>198747</th>\n",
       "      <td>2022-05-03</td>\n",
       "      <td>3123</td>\n",
       "      <td>2</td>\n",
       "    </tr>\n",
       "    <tr>\n",
       "      <th>198748</th>\n",
       "      <td>2022-05-04</td>\n",
       "      <td>2709</td>\n",
       "      <td>0</td>\n",
       "    </tr>\n",
       "  </tbody>\n",
       "</table>\n",
       "<p>853 rows × 3 columns</p>\n",
       "</div>"
      ],
      "text/plain": [
       "       Date_reported  New_cases  New_deaths\n",
       "197896    2020-01-03          0           0\n",
       "197897    2020-01-04          0           0\n",
       "197898    2020-01-05          0           0\n",
       "197899    2020-01-06          0           0\n",
       "197900    2020-01-07          0           0\n",
       "...              ...        ...         ...\n",
       "198744    2022-04-30       6068           1\n",
       "198745    2022-05-01       5109           3\n",
       "198746    2022-05-02       3717           1\n",
       "198747    2022-05-03       3123           2\n",
       "198748    2022-05-04       2709           0\n",
       "\n",
       "[853 rows x 3 columns]"
      ]
     },
     "execution_count": 3,
     "metadata": {},
     "output_type": "execute_result"
    }
   ],
   "source": [
    "vietnam=cases_deaths[(cases_deaths['Country']==\"Viet Nam\")]\n",
    "vietnam=vietnam[['Date_reported','New_cases','New_deaths']]\n",
    "vietnam"
   ]
  },
  {
   "cell_type": "code",
   "execution_count": 4,
   "id": "c69c214d",
   "metadata": {},
   "outputs": [],
   "source": [
    "vietnam=vietnam.reset_index()"
   ]
  },
  {
   "cell_type": "code",
   "execution_count": 5,
   "id": "e803568f",
   "metadata": {},
   "outputs": [
    {
     "data": {
      "text/html": [
       "<div>\n",
       "<style scoped>\n",
       "    .dataframe tbody tr th:only-of-type {\n",
       "        vertical-align: middle;\n",
       "    }\n",
       "\n",
       "    .dataframe tbody tr th {\n",
       "        vertical-align: top;\n",
       "    }\n",
       "\n",
       "    .dataframe thead th {\n",
       "        text-align: right;\n",
       "    }\n",
       "</style>\n",
       "<table border=\"1\" class=\"dataframe\">\n",
       "  <thead>\n",
       "    <tr style=\"text-align: right;\">\n",
       "      <th></th>\n",
       "      <th>index</th>\n",
       "      <th>Date_reported</th>\n",
       "      <th>New_cases</th>\n",
       "      <th>New_deaths</th>\n",
       "    </tr>\n",
       "  </thead>\n",
       "  <tbody>\n",
       "    <tr>\n",
       "      <th>364</th>\n",
       "      <td>198260</td>\n",
       "      <td>2021-01-01</td>\n",
       "      <td>9</td>\n",
       "      <td>0</td>\n",
       "    </tr>\n",
       "  </tbody>\n",
       "</table>\n",
       "</div>"
      ],
      "text/plain": [
       "      index Date_reported  New_cases  New_deaths\n",
       "364  198260    2021-01-01          9           0"
      ]
     },
     "execution_count": 5,
     "metadata": {},
     "output_type": "execute_result"
    }
   ],
   "source": [
    "vietnam1=vietnam[(vietnam['Date_reported']=='2021-01-01')]\n",
    "vietnam1"
   ]
  },
  {
   "cell_type": "code",
   "execution_count": 6,
   "id": "9f99c9bd",
   "metadata": {},
   "outputs": [
    {
     "data": {
      "text/html": [
       "<div>\n",
       "<style scoped>\n",
       "    .dataframe tbody tr th:only-of-type {\n",
       "        vertical-align: middle;\n",
       "    }\n",
       "\n",
       "    .dataframe tbody tr th {\n",
       "        vertical-align: top;\n",
       "    }\n",
       "\n",
       "    .dataframe thead th {\n",
       "        text-align: right;\n",
       "    }\n",
       "</style>\n",
       "<table border=\"1\" class=\"dataframe\">\n",
       "  <thead>\n",
       "    <tr style=\"text-align: right;\">\n",
       "      <th></th>\n",
       "      <th>index</th>\n",
       "      <th>Date_reported</th>\n",
       "      <th>New_cases</th>\n",
       "      <th>New_deaths</th>\n",
       "    </tr>\n",
       "  </thead>\n",
       "  <tbody>\n",
       "    <tr>\n",
       "      <th>729</th>\n",
       "      <td>198625</td>\n",
       "      <td>2022-01-01</td>\n",
       "      <td>16515</td>\n",
       "      <td>226</td>\n",
       "    </tr>\n",
       "  </tbody>\n",
       "</table>\n",
       "</div>"
      ],
      "text/plain": [
       "      index Date_reported  New_cases  New_deaths\n",
       "729  198625    2022-01-01      16515         226"
      ]
     },
     "execution_count": 6,
     "metadata": {},
     "output_type": "execute_result"
    }
   ],
   "source": [
    "vietnam2=vietnam[(vietnam['Date_reported']=='2022-01-01')]\n",
    "vietnam2"
   ]
  },
  {
   "cell_type": "markdown",
   "id": "f7141687",
   "metadata": {},
   "source": [
    "## $\\color{red}{\\text{2020}}$ "
   ]
  },
  {
   "cell_type": "code",
   "execution_count": 7,
   "id": "b97c0865",
   "metadata": {},
   "outputs": [],
   "source": [
    "vietnam2020_keydates=['2020-04-01','2020-04-22']"
   ]
  },
  {
   "cell_type": "code",
   "execution_count": 8,
   "id": "636e7e3d",
   "metadata": {},
   "outputs": [
    {
     "data": {
      "text/html": [
       "<div>\n",
       "<style scoped>\n",
       "    .dataframe tbody tr th:only-of-type {\n",
       "        vertical-align: middle;\n",
       "    }\n",
       "\n",
       "    .dataframe tbody tr th {\n",
       "        vertical-align: top;\n",
       "    }\n",
       "\n",
       "    .dataframe thead th {\n",
       "        text-align: right;\n",
       "    }\n",
       "</style>\n",
       "<table border=\"1\" class=\"dataframe\">\n",
       "  <thead>\n",
       "    <tr style=\"text-align: right;\">\n",
       "      <th></th>\n",
       "      <th>index</th>\n",
       "      <th>Date_reported</th>\n",
       "      <th>New_cases</th>\n",
       "      <th>New_deaths</th>\n",
       "    </tr>\n",
       "  </thead>\n",
       "  <tbody>\n",
       "    <tr>\n",
       "      <th>0</th>\n",
       "      <td>197896</td>\n",
       "      <td>2020-01-03</td>\n",
       "      <td>0</td>\n",
       "      <td>0</td>\n",
       "    </tr>\n",
       "    <tr>\n",
       "      <th>1</th>\n",
       "      <td>197897</td>\n",
       "      <td>2020-01-04</td>\n",
       "      <td>0</td>\n",
       "      <td>0</td>\n",
       "    </tr>\n",
       "    <tr>\n",
       "      <th>2</th>\n",
       "      <td>197898</td>\n",
       "      <td>2020-01-05</td>\n",
       "      <td>0</td>\n",
       "      <td>0</td>\n",
       "    </tr>\n",
       "    <tr>\n",
       "      <th>3</th>\n",
       "      <td>197899</td>\n",
       "      <td>2020-01-06</td>\n",
       "      <td>0</td>\n",
       "      <td>0</td>\n",
       "    </tr>\n",
       "    <tr>\n",
       "      <th>4</th>\n",
       "      <td>197900</td>\n",
       "      <td>2020-01-07</td>\n",
       "      <td>0</td>\n",
       "      <td>0</td>\n",
       "    </tr>\n",
       "    <tr>\n",
       "      <th>...</th>\n",
       "      <td>...</td>\n",
       "      <td>...</td>\n",
       "      <td>...</td>\n",
       "      <td>...</td>\n",
       "    </tr>\n",
       "    <tr>\n",
       "      <th>359</th>\n",
       "      <td>198255</td>\n",
       "      <td>2020-12-27</td>\n",
       "      <td>1</td>\n",
       "      <td>0</td>\n",
       "    </tr>\n",
       "    <tr>\n",
       "      <th>360</th>\n",
       "      <td>198256</td>\n",
       "      <td>2020-12-28</td>\n",
       "      <td>1</td>\n",
       "      <td>0</td>\n",
       "    </tr>\n",
       "    <tr>\n",
       "      <th>361</th>\n",
       "      <td>198257</td>\n",
       "      <td>2020-12-29</td>\n",
       "      <td>10</td>\n",
       "      <td>0</td>\n",
       "    </tr>\n",
       "    <tr>\n",
       "      <th>362</th>\n",
       "      <td>198258</td>\n",
       "      <td>2020-12-30</td>\n",
       "      <td>3</td>\n",
       "      <td>0</td>\n",
       "    </tr>\n",
       "    <tr>\n",
       "      <th>363</th>\n",
       "      <td>198259</td>\n",
       "      <td>2020-12-31</td>\n",
       "      <td>2</td>\n",
       "      <td>0</td>\n",
       "    </tr>\n",
       "  </tbody>\n",
       "</table>\n",
       "<p>364 rows × 4 columns</p>\n",
       "</div>"
      ],
      "text/plain": [
       "      index Date_reported  New_cases  New_deaths\n",
       "0    197896    2020-01-03          0           0\n",
       "1    197897    2020-01-04          0           0\n",
       "2    197898    2020-01-05          0           0\n",
       "3    197899    2020-01-06          0           0\n",
       "4    197900    2020-01-07          0           0\n",
       "..      ...           ...        ...         ...\n",
       "359  198255    2020-12-27          1           0\n",
       "360  198256    2020-12-28          1           0\n",
       "361  198257    2020-12-29         10           0\n",
       "362  198258    2020-12-30          3           0\n",
       "363  198259    2020-12-31          2           0\n",
       "\n",
       "[364 rows x 4 columns]"
      ]
     },
     "execution_count": 8,
     "metadata": {},
     "output_type": "execute_result"
    }
   ],
   "source": [
    "vietnam2020=vietnam[:364]\n",
    "vietnam2020"
   ]
  },
  {
   "cell_type": "code",
   "execution_count": 10,
   "id": "0b4582e5",
   "metadata": {},
   "outputs": [],
   "source": [
    "vn_dates_2020=vietnam2020['Date_reported']\n",
    "vietnam_dates_2020=[vn_dates_2020[i] for i in range(364) if i%7==0 or vn_dates_2020[i] in vietnam2020_keydates]\n",
    "\n",
    "vietnam_cases_2020=vietnam2020['New_cases']\n",
    "vietnam_cases_2020=[vietnam_cases_2020[i] for i in range(364) if vn_dates_2020[i] in vietnam_dates_2020]\n",
    "\n",
    "vietnam_deaths_2020=vietnam2020['New_deaths']\n",
    "vietnam_deaths_2020=[vietnam_deaths_2020[i] for i in range(364) if vn_dates_2020[i] in vietnam_dates_2020]"
   ]
  },
  {
   "cell_type": "code",
   "execution_count": 11,
   "id": "dff97dfb",
   "metadata": {},
   "outputs": [
    {
     "data": {
      "image/png": "[encoded data removed]",
      "text/plain": [
       "<Figure size 1152x576 with 1 Axes>"
      ]
     },
     "metadata": {
      "needs_background": "light"
     },
     "output_type": "display_data"
    }
   ],
   "source": [
    "plt.figure(figsize=[16,8])\n",
    "plt.title('evolution of covid in Vietnam in 2020')\n",
    "plt.plot(vietnam_dates_2020,vietnam_cases_2020,label=\"New Cases\",linestyle='dotted');\n",
    "plt.xticks(rotation=45,ha='right');\n",
    "plt.plot(vietnam_dates_2020,vietnam_deaths_2020,label=\"New Deaths\",linestyle='dotted');\n",
    "plt.annotate(\"April 1st:\\nLockdown\",('2020-04-01',17))\n",
    "plt.annotate(\"April 22nd:\\nLockdown\\nlift\",('2020-04-22',8))\n",
    "plt.xticks(rotation=45,ha='right');\n",
    "plt.legend();\n",
    "plt.savefig(\"vietnam2020.png\",dpi=300);\n",
    "plt.show();"
   ]
  },
  {
   "cell_type": "markdown",
   "id": "f3c64473",
   "metadata": {},
   "source": [
    "## ANALYSIS (to fill in)"
   ]
  },
  {
   "cell_type": "markdown",
   "id": "2a3f2202",
   "metadata": {},
   "source": [
    "## $\\color{yellow}{\\text{2021}}$ "
   ]
  },
  {
   "cell_type": "code",
   "execution_count": 12,
   "id": "09ae1824",
   "metadata": {},
   "outputs": [
    {
     "data": {
      "text/html": [
       "<div>\n",
       "<style scoped>\n",
       "    .dataframe tbody tr th:only-of-type {\n",
       "        vertical-align: middle;\n",
       "    }\n",
       "\n",
       "    .dataframe tbody tr th {\n",
       "        vertical-align: top;\n",
       "    }\n",
       "\n",
       "    .dataframe thead th {\n",
       "        text-align: right;\n",
       "    }\n",
       "</style>\n",
       "<table border=\"1\" class=\"dataframe\">\n",
       "  <thead>\n",
       "    <tr style=\"text-align: right;\">\n",
       "      <th></th>\n",
       "      <th>index</th>\n",
       "      <th>Date_reported</th>\n",
       "      <th>New_cases</th>\n",
       "      <th>New_deaths</th>\n",
       "    </tr>\n",
       "  </thead>\n",
       "  <tbody>\n",
       "    <tr>\n",
       "      <th>364</th>\n",
       "      <td>198260</td>\n",
       "      <td>2021-01-01</td>\n",
       "      <td>9</td>\n",
       "      <td>0</td>\n",
       "    </tr>\n",
       "    <tr>\n",
       "      <th>365</th>\n",
       "      <td>198261</td>\n",
       "      <td>2021-01-02</td>\n",
       "      <td>9</td>\n",
       "      <td>0</td>\n",
       "    </tr>\n",
       "    <tr>\n",
       "      <th>366</th>\n",
       "      <td>198262</td>\n",
       "      <td>2021-01-03</td>\n",
       "      <td>8</td>\n",
       "      <td>0</td>\n",
       "    </tr>\n",
       "    <tr>\n",
       "      <th>367</th>\n",
       "      <td>198263</td>\n",
       "      <td>2021-01-04</td>\n",
       "      <td>12</td>\n",
       "      <td>0</td>\n",
       "    </tr>\n",
       "    <tr>\n",
       "      <th>368</th>\n",
       "      <td>198264</td>\n",
       "      <td>2021-01-05</td>\n",
       "      <td>3</td>\n",
       "      <td>0</td>\n",
       "    </tr>\n",
       "    <tr>\n",
       "      <th>...</th>\n",
       "      <td>...</td>\n",
       "      <td>...</td>\n",
       "      <td>...</td>\n",
       "      <td>...</td>\n",
       "    </tr>\n",
       "    <tr>\n",
       "      <th>724</th>\n",
       "      <td>198620</td>\n",
       "      <td>2021-12-27</td>\n",
       "      <td>15218</td>\n",
       "      <td>207</td>\n",
       "    </tr>\n",
       "    <tr>\n",
       "      <th>725</th>\n",
       "      <td>198621</td>\n",
       "      <td>2021-12-28</td>\n",
       "      <td>14872</td>\n",
       "      <td>204</td>\n",
       "    </tr>\n",
       "    <tr>\n",
       "      <th>726</th>\n",
       "      <td>198622</td>\n",
       "      <td>2021-12-29</td>\n",
       "      <td>14440</td>\n",
       "      <td>214</td>\n",
       "    </tr>\n",
       "    <tr>\n",
       "      <th>727</th>\n",
       "      <td>198623</td>\n",
       "      <td>2021-12-30</td>\n",
       "      <td>13889</td>\n",
       "      <td>245</td>\n",
       "    </tr>\n",
       "    <tr>\n",
       "      <th>728</th>\n",
       "      <td>198624</td>\n",
       "      <td>2021-12-31</td>\n",
       "      <td>19868</td>\n",
       "      <td>291</td>\n",
       "    </tr>\n",
       "  </tbody>\n",
       "</table>\n",
       "<p>365 rows × 4 columns</p>\n",
       "</div>"
      ],
      "text/plain": [
       "      index Date_reported  New_cases  New_deaths\n",
       "364  198260    2021-01-01          9           0\n",
       "365  198261    2021-01-02          9           0\n",
       "366  198262    2021-01-03          8           0\n",
       "367  198263    2021-01-04         12           0\n",
       "368  198264    2021-01-05          3           0\n",
       "..      ...           ...        ...         ...\n",
       "724  198620    2021-12-27      15218         207\n",
       "725  198621    2021-12-28      14872         204\n",
       "726  198622    2021-12-29      14440         214\n",
       "727  198623    2021-12-30      13889         245\n",
       "728  198624    2021-12-31      19868         291\n",
       "\n",
       "[365 rows x 4 columns]"
      ]
     },
     "execution_count": 12,
     "metadata": {},
     "output_type": "execute_result"
    }
   ],
   "source": [
    "vietnam2021=vietnam[364:729]\n",
    "vietnam2021"
   ]
  },
  {
   "cell_type": "code",
   "execution_count": 13,
   "id": "b491cb62",
   "metadata": {},
   "outputs": [],
   "source": [
    "vietnam_dates_2021=vietnam2021['Date_reported']\n",
    "vietnam_dates_2021=[vietnam_dates_2021[i] for i in range(364,729) if i%7==0]\n",
    "\n",
    "vietnam_cases_2021=vietnam2021['New_cases']\n",
    "vietnam_cases_2021=[vietnam_cases_2021[i] for i in range(364,729) if i%7==0]\n",
    "\n",
    "vietnam_deaths_2021=vietnam2021['New_deaths']\n",
    "vietnam_deaths_2021=[vietnam_deaths_2021[i] for i in range(364,729) if i%7==0]"
   ]
  },
  {
   "cell_type": "code",
   "execution_count": 14,
   "id": "047371a3",
   "metadata": {},
   "outputs": [
    {
     "data": {
      "image/png": "[encoded data removed]",
      "text/plain": [
       "<Figure size 1152x576 with 1 Axes>"
      ]
     },
     "metadata": {
      "needs_background": "light"
     },
     "output_type": "display_data"
    }
   ],
   "source": [
    "plt.figure(figsize=[16,8])\n",
    "plt.title('evolution of covid in Vietnam in 2021')\n",
    "plt.plot(vietnam_dates_2021,vietnam_cases_2021,label=\"New Cases\",linestyle='dotted');\n",
    "plt.xticks(rotation=45,ha='right');\n",
    "plt.plot(vietnam_dates_2021,vietnam_deaths_2021,label=\"New Deaths\",linestyle='dotted');\n",
    "plt.xticks(rotation=45,ha='right');\n",
    "plt.legend();\n",
    "plt.savefig(\"vietnam2021.png\",dpi=300);\n",
    "plt.show();"
   ]
  },
  {
   "cell_type": "markdown",
   "id": "3cc3ba67",
   "metadata": {},
   "source": [
    "## ANALYSIS (to fill in)"
   ]
  },
  {
   "cell_type": "markdown",
   "id": "48f72a3c",
   "metadata": {},
   "source": [
    "## $\\color{red}{\\text{2022}}$ "
   ]
  },
  {
   "cell_type": "code",
   "execution_count": 15,
   "id": "053e183d",
   "metadata": {},
   "outputs": [
    {
     "data": {
      "text/html": [
       "<div>\n",
       "<style scoped>\n",
       "    .dataframe tbody tr th:only-of-type {\n",
       "        vertical-align: middle;\n",
       "    }\n",
       "\n",
       "    .dataframe tbody tr th {\n",
       "        vertical-align: top;\n",
       "    }\n",
       "\n",
       "    .dataframe thead th {\n",
       "        text-align: right;\n",
       "    }\n",
       "</style>\n",
       "<table border=\"1\" class=\"dataframe\">\n",
       "  <thead>\n",
       "    <tr style=\"text-align: right;\">\n",
       "      <th></th>\n",
       "      <th>index</th>\n",
       "      <th>Date_reported</th>\n",
       "      <th>New_cases</th>\n",
       "      <th>New_deaths</th>\n",
       "    </tr>\n",
       "  </thead>\n",
       "  <tbody>\n",
       "    <tr>\n",
       "      <th>729</th>\n",
       "      <td>198625</td>\n",
       "      <td>2022-01-01</td>\n",
       "      <td>16515</td>\n",
       "      <td>226</td>\n",
       "    </tr>\n",
       "    <tr>\n",
       "      <th>730</th>\n",
       "      <td>198626</td>\n",
       "      <td>2022-01-02</td>\n",
       "      <td>14835</td>\n",
       "      <td>216</td>\n",
       "    </tr>\n",
       "    <tr>\n",
       "      <th>731</th>\n",
       "      <td>198627</td>\n",
       "      <td>2022-01-03</td>\n",
       "      <td>16948</td>\n",
       "      <td>221</td>\n",
       "    </tr>\n",
       "    <tr>\n",
       "      <th>732</th>\n",
       "      <td>198628</td>\n",
       "      <td>2022-01-04</td>\n",
       "      <td>15936</td>\n",
       "      <td>190</td>\n",
       "    </tr>\n",
       "    <tr>\n",
       "      <th>733</th>\n",
       "      <td>198629</td>\n",
       "      <td>2022-01-05</td>\n",
       "      <td>21728</td>\n",
       "      <td>224</td>\n",
       "    </tr>\n",
       "    <tr>\n",
       "      <th>...</th>\n",
       "      <td>...</td>\n",
       "      <td>...</td>\n",
       "      <td>...</td>\n",
       "      <td>...</td>\n",
       "    </tr>\n",
       "    <tr>\n",
       "      <th>848</th>\n",
       "      <td>198744</td>\n",
       "      <td>2022-04-30</td>\n",
       "      <td>6068</td>\n",
       "      <td>1</td>\n",
       "    </tr>\n",
       "    <tr>\n",
       "      <th>849</th>\n",
       "      <td>198745</td>\n",
       "      <td>2022-05-01</td>\n",
       "      <td>5109</td>\n",
       "      <td>3</td>\n",
       "    </tr>\n",
       "    <tr>\n",
       "      <th>850</th>\n",
       "      <td>198746</td>\n",
       "      <td>2022-05-02</td>\n",
       "      <td>3717</td>\n",
       "      <td>1</td>\n",
       "    </tr>\n",
       "    <tr>\n",
       "      <th>851</th>\n",
       "      <td>198747</td>\n",
       "      <td>2022-05-03</td>\n",
       "      <td>3123</td>\n",
       "      <td>2</td>\n",
       "    </tr>\n",
       "    <tr>\n",
       "      <th>852</th>\n",
       "      <td>198748</td>\n",
       "      <td>2022-05-04</td>\n",
       "      <td>2709</td>\n",
       "      <td>0</td>\n",
       "    </tr>\n",
       "  </tbody>\n",
       "</table>\n",
       "<p>124 rows × 4 columns</p>\n",
       "</div>"
      ],
      "text/plain": [
       "      index Date_reported  New_cases  New_deaths\n",
       "729  198625    2022-01-01      16515         226\n",
       "730  198626    2022-01-02      14835         216\n",
       "731  198627    2022-01-03      16948         221\n",
       "732  198628    2022-01-04      15936         190\n",
       "733  198629    2022-01-05      21728         224\n",
       "..      ...           ...        ...         ...\n",
       "848  198744    2022-04-30       6068           1\n",
       "849  198745    2022-05-01       5109           3\n",
       "850  198746    2022-05-02       3717           1\n",
       "851  198747    2022-05-03       3123           2\n",
       "852  198748    2022-05-04       2709           0\n",
       "\n",
       "[124 rows x 4 columns]"
      ]
     },
     "execution_count": 15,
     "metadata": {},
     "output_type": "execute_result"
    }
   ],
   "source": [
    "vietnam2022=vietnam[729:]\n",
    "vietnam2022"
   ]
  },
  {
   "cell_type": "code",
   "execution_count": 16,
   "id": "efc7d97f",
   "metadata": {},
   "outputs": [],
   "source": [
    "vietnam_dates_2022=vietnam2022['Date_reported']\n",
    "vietnam_dates_2022=[vietnam_dates_2022[i] for i in range(729,853) if i%7==0]\n",
    "\n",
    "vietnam_cases_2022=vietnam2022['New_cases']\n",
    "vietnam_cases_2022=[vietnam_cases_2022[i] for i in range(729,853) if i%7==0]\n",
    "\n",
    "vietnam_deaths_2022=vietnam2022['New_deaths']\n",
    "vietnam_deaths_2022=[vietnam_deaths_2022[i] for i in range(729,853) if i%7==0]"
   ]
  },
  {
   "cell_type": "code",
   "execution_count": 23,
   "id": "73429d0e",
   "metadata": {},
   "outputs": [
    {
     "data": {
      "image/png": "[encoded data removed]",
      "text/plain": [
       "<Figure size 1152x576 with 1 Axes>"
      ]
     },
     "metadata": {
      "needs_background": "light"
     },
     "output_type": "display_data"
    }
   ],
   "source": [
    "plt.figure(figsize=[16,8])\n",
    "plt.title('evolution of covid in Vietnam in 2022')\n",
    "plt.plot(vietnam_dates_2022,vietnam_cases_2022,label=\"New Cases\",linestyle='dotted');\n",
    "plt.xticks(rotation=45,ha='right');\n",
    "plt.plot(vietnam_dates_2022,vietnam_deaths_2022,label=\"New Deaths\",linestyle='dotted');\n",
    "plt.xticks(rotation=45,ha='right');\n",
    "plt.legend();\n",
    "plt.savefig(\"vietnam2022.png\",dpi=300);\n",
    "plt.show();"
   ]
  },
  {
   "cell_type": "markdown",
   "id": "055ac49f",
   "metadata": {},
   "source": [
    "## ANALYSIS (to fill in)"
   ]
  },
  {
   "cell_type": "code",
   "execution_count": null,
   "id": "fdd1cab5",
   "metadata": {},
   "outputs": [],
   "source": []
  }
 ],
 "metadata": {
  "kernelspec": {
   "display_name": "Python 3",
   "language": "python",
   "name": "python3"
  },
  "language_info": {
   "codemirror_mode": {
    "name": "ipython",
    "version": 3
   },
   "file_extension": ".py",
   "mimetype": "text/x-python",
   "name": "python",
   "nbconvert_exporter": "python",
   "pygments_lexer": "ipython3",
   "version": "3.8.8"
  }
 },
 "nbformat": 4,
 "nbformat_minor": 5
}
